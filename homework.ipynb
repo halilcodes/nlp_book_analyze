{
 "cells": [
  {
   "cell_type": "markdown",
   "id": "172e035b-1009-4fd4-8e87-ecc6745bfd34",
   "metadata": {},
   "source": [
    "# Load the book"
   ]
  },
  {
   "cell_type": "code",
   "execution_count": 1,
   "id": "8ea13615-75c7-46ed-a2ff-55e97564f5bd",
   "metadata": {},
   "outputs": [],
   "source": [
    "with open(\"miracle_in_the_andes.txt\", \"r\", encoding=\"utf8\") as file:\n",
    "    book = file.read()"
   ]
  },
  {
   "cell_type": "markdown",
   "id": "1f43d08b-388f-4ebd-a668-5d00674ae5bd",
   "metadata": {},
   "source": [
    "# Extract the paragraphs where \"love\" was used"
   ]
  },
  {
   "cell_type": "code",
   "execution_count": 3,
   "id": "a74378e2-84ad-47ab-b599-c88b4dfad3fa",
   "metadata": {},
   "outputs": [],
   "source": [
    "import re"
   ]
  },
  {
   "cell_type": "code",
   "execution_count": 57,
   "id": "ae01933a-80fe-4665-ba37-98783dc0c935",
   "metadata": {},
   "outputs": [
    {
     "data": {
      "text/plain": [
       "re.compile(r'[^\\n]+love[^\\n]+', re.UNICODE)"
      ]
     },
     "execution_count": 57,
     "metadata": {},
     "output_type": "execute_result"
    }
   ],
   "source": [
    "pattern = re.compile(\"[^\\n]+love[^\\n]+\")\n",
    "pattern"
   ]
  },
  {
   "cell_type": "code",
   "execution_count": 58,
   "id": "a652f7f5-1032-4f5b-a0f1-d727926b4dcf",
   "metadata": {},
   "outputs": [
    {
     "name": "stdout",
     "output_type": "stream",
     "text": [
      "60\n"
     ]
    },
    {
     "data": {
      "text/plain": [
       "['To me, this is the essence of rugby. No other sport gives you such an intense sense of selflessness and unified purpose. I believe this is why rugby players all over the world feel such a passion for the game and such a feeling of brotherhood. As a young man, of course, I could not put these things into words, but I knew, and my teammates knew, that there was something special about the game, and under the guidance of the Christian Brothers we developed a passionate love for the sport that shaped our friendships and our lives. For eight years we played our hearts out for the Christian Brothers—a brotherhood of young boys with Latin names, playing a game with deep Anglo roots under Uruguay’s sunny skies, and proudly wearing the bright green shamrock on our uniforms. The game became so much a part of our lives, in fact, that when we graduated from Stella Maris at the age of sixteen, many of us could not bear the thought that our playing days were over. Our salvation came in the form of the Old Christians Club, a private rugby team formed in 1965 by previous alumni of the Stella Maris rugby program to give Stella Maris ruggers a chance to continue playing the game after our school years ended.',\n",
       " 'There were others—Alexis Hounie, Gastón Costemalle, Daniel Shaw—all of them great players and all of them my friends. But my oldest friend was Guido Magri. He and I had met on my first day at the Stella Maris School—I was eight years old and Guido was one year older—and we had been inseparable ever since. Guido and I grew up together, playing soccer and sharing a love of motorcycles, cars, and auto racing. When I was fifteen we both had mopeds that we had modified in silly ways—removing the mufflers, turn signals, and fenders—and we would ride them to Las Delicias, a famous ice cream parlor in our neighborhood, where we would drool over the girls from the nearby School Sagrado Corazón, hoping to impress them with our souped-up scooters. Guido was a dependable friend, with a good sense of humor and an easy laugh. He was also an outstanding scrum half, as quick and smart as a fox, with good hands and great courage. Under the guidance of the Christian Brothers, both of us grew to love the game of rugby with a consuming passion. As seasons passed we worked hard to improve our skills, and by the time I was fifteen we had each earned a spot on the Stella Maris First XV, the team’s starting lineup. After graduation, both of us went on to join the Old Christians and spent several happy seasons pursuing the high-octane social life of young rugby players. That rowdiness came to an abrupt end for Guido in 1969, when he met and fell in love with the beautiful daughter of a Chilean diplomat. She was now his fiancée, and he was happy to behave himself for her sake.']"
      ]
     },
     "execution_count": 58,
     "metadata": {},
     "output_type": "execute_result"
    }
   ],
   "source": [
    "findings = re.findall(pattern, book)\n",
    "print(len(findings))\n",
    "findings[:2]"
   ]
  },
  {
   "cell_type": "markdown",
   "id": "21f7c826-7b3e-4ed3-87ee-3291d0b13038",
   "metadata": {},
   "source": [
    "# Extract the chapter titles"
   ]
  },
  {
   "cell_type": "code",
   "execution_count": 145,
   "id": "79782065-004d-462c-9281-3be0836e68a9",
   "metadata": {},
   "outputs": [],
   "source": [
    "pattern = re.compile(\"[a-zA-Z ,]+\\n\\n\")\n",
    "# this regex means; everything that is a letter, space or comma that ends with two new lines"
   ]
  },
  {
   "cell_type": "code",
   "execution_count": 146,
   "id": "b649df60-1c51-40ad-8402-2e2ef468d563",
   "metadata": {},
   "outputs": [
    {
     "name": "stdout",
     "output_type": "stream",
     "text": [
      "10\n"
     ]
    },
    {
     "data": {
      "text/plain": [
       "['Before\\n\\n',\n",
       " 'Everything Precious\\n\\n',\n",
       " 'A Promise\\n\\n',\n",
       " 'Breathe Once More\\n\\n',\n",
       " 'Abandoned\\n\\n',\n",
       " 'Tomb\\n\\n',\n",
       " 'East\\n\\n',\n",
       " 'The Opposite of Death\\n\\n',\n",
       " 'I See a Man\\n\\n',\n",
       " 'After\\n\\n']"
      ]
     },
     "execution_count": 146,
     "metadata": {},
     "output_type": "execute_result"
    }
   ],
   "source": [
    "findings = re.findall(pattern, book)\n",
    "print(len(findings))\n",
    "# findings = [found.strip(\"\\n\\n\") for found in findings]\n",
    "findings"
   ]
  },
  {
   "cell_type": "code",
   "execution_count": 147,
   "id": "24a18575-a419-4c8f-bc45-82d49595d6a7",
   "metadata": {},
   "outputs": [
    {
     "name": "stdout",
     "output_type": "stream",
     "text": [
      "10\n"
     ]
    },
    {
     "data": {
      "text/plain": [
       "['Before',\n",
       " 'Everything Precious',\n",
       " 'A Promise',\n",
       " 'Breathe Once More',\n",
       " 'Abandoned',\n",
       " 'Tomb',\n",
       " 'East',\n",
       " 'The Opposite of Death',\n",
       " 'I See a Man',\n",
       " 'After']"
      ]
     },
     "execution_count": 147,
     "metadata": {},
     "output_type": "execute_result"
    }
   ],
   "source": [
    "pattern = re.compile(\"([a-zA-Z ,]+)\\n\\n\")\n",
    "findings = re.findall(pattern, book)\n",
    "print(len(findings))\n",
    "findings"
   ]
  },
  {
   "cell_type": "markdown",
   "id": "967bdf2b-0bd0-4feb-9588-539c2423735a",
   "metadata": {},
   "source": [
    "# Function that finds the occurance of any word"
   ]
  },
  {
   "cell_type": "code",
   "execution_count": 156,
   "id": "cb1d8f7f-f2da-4192-9dd6-6743838a0bc1",
   "metadata": {},
   "outputs": [],
   "source": [
    "def find(word):\n",
    "    pattern = re.compile(f\"[^a-zA-Z]{word}[^a-zA-Z]\")\n",
    "    findings = re.findall(pattern, book)\n",
    "    occurance = len(findings)\n",
    "    if occurance == 0:\n",
    "        return f\"{word} not used in the book\"\n",
    "    else:\n",
    "        return occurance"
   ]
  },
  {
   "cell_type": "markdown",
   "id": "e9b7e9e9-c3cd-48b4-bbab-5ecdaed04cfb",
   "metadata": {},
   "source": [
    "# call the function"
   ]
  },
  {
   "cell_type": "code",
   "execution_count": 157,
   "id": "185d053a-8125-4c63-bea8-aba33d8ed83d",
   "metadata": {},
   "outputs": [
    {
     "name": "stdout",
     "output_type": "stream",
     "text": [
      "hate not used in the book\n"
     ]
    }
   ],
   "source": [
    "print(find(\"hate\"))"
   ]
  },
  {
   "cell_type": "code",
   "execution_count": 158,
   "id": "f698ae2e-5d51-4a04-b8df-0862f359a23d",
   "metadata": {},
   "outputs": [
    {
     "name": "stdout",
     "output_type": "stream",
     "text": [
      "82\n"
     ]
    }
   ],
   "source": [
    "print(find(\"love\"))"
   ]
  },
  {
   "cell_type": "code",
   "execution_count": null,
   "id": "c2ecb280-91f4-4d7f-a396-5b53fb385590",
   "metadata": {},
   "outputs": [],
   "source": [
    "def finder(word):\n",
    "    pattern = re.compile(f\"[^a-zA-Z]{word}[^a-zA-Z]\")\n",
    "    findings = re.findall(pattern, book)\n",
    "    occurance = len(findings)\n",
    "    if occurance == 0:\n",
    "        return f\"{word} not used in the book\"\n",
    "    else:\n",
    "        return occurance"
   ]
  }
 ],
 "metadata": {
  "kernelspec": {
   "display_name": "Python 3 (ipykernel)",
   "language": "python",
   "name": "python3"
  },
  "language_info": {
   "codemirror_mode": {
    "name": "ipython",
    "version": 3
   },
   "file_extension": ".py",
   "mimetype": "text/x-python",
   "name": "python",
   "nbconvert_exporter": "python",
   "pygments_lexer": "ipython3",
   "version": "3.11.3"
  }
 },
 "nbformat": 4,
 "nbformat_minor": 5
}
