{
 "cells": [
  {
   "cell_type": "markdown",
   "id": "2d53e9c4-7db6-4a6a-b313-211b56ed3247",
   "metadata": {},
   "source": [
    "## Load the Book"
   ]
  },
  {
   "cell_type": "code",
   "execution_count": 1,
   "id": "f1128e94-6159-4b05-b9b0-2d3fc2a4d4b6",
   "metadata": {},
   "outputs": [],
   "source": [
    "with open(\"miracle_in_the_andes.txt\", \"r\", encoding=\"utf8\") as file:\n",
    "    book = file.read()"
   ]
  },
  {
   "cell_type": "markdown",
   "id": "0bd6b24f-4c61-46ac-a8d0-1703daf4da2d",
   "metadata": {},
   "source": [
    "## the most used non-article words"
   ]
  },
  {
   "cell_type": "code",
   "execution_count": 2,
   "id": "208f4b5a-0eb5-4a84-b0b5-8bde61d2d796",
   "metadata": {},
   "outputs": [],
   "source": [
    "import re"
   ]
  },
  {
   "cell_type": "code",
   "execution_count": 3,
   "id": "7551b0b1-eb5e-404f-98bc-1da03e5ee032",
   "metadata": {},
   "outputs": [
    {
     "name": "stdout",
     "output_type": "stream",
     "text": [
      "['chapter', 'before', 'it', 'was', 'friday']\n"
     ]
    },
    {
     "data": {
      "text/plain": [
       "86798"
      ]
     },
     "execution_count": 3,
     "metadata": {},
     "output_type": "execute_result"
    }
   ],
   "source": [
    "pattern = re.compile(\"[a-zA-Z]+\")\n",
    "findings = re.findall(pattern, book.lower())\n",
    "print(findings[:5])\n",
    "len(findings)"
   ]
  },
  {
   "cell_type": "code",
   "execution_count": 4,
   "id": "c54ac588-cdc8-4a67-b011-54733e4c6dd2",
   "metadata": {},
   "outputs": [
    {
     "data": {
      "text/plain": [
       "11"
      ]
     },
     "execution_count": 4,
     "metadata": {},
     "output_type": "execute_result"
    }
   ],
   "source": [
    "d = {}\n",
    "for word in findings:\n",
    "    if d.get(word):\n",
    "        d[word] += 1\n",
    "    else:\n",
    "        d[word] = 1\n",
    "d[\"chapter\"]"
   ]
  },
  {
   "cell_type": "code",
   "execution_count": 5,
   "id": "8cc4cb8e-4a58-4c3c-83e1-8397f7d8cb2a",
   "metadata": {},
   "outputs": [
    {
     "data": {
      "text/plain": [
       "[(5346, 'the'),\n",
       " (2795, 'and'),\n",
       " (2729, 'i'),\n",
       " (2400, 'to'),\n",
       " (2060, 'of'),\n",
       " (1566, 'a'),\n",
       " (1430, 'was'),\n",
       " (1419, 'in'),\n",
       " (1226, 'we'),\n",
       " (1169, 'my'),\n",
       " (1001, 'that'),\n",
       " (946, 'he'),\n",
       " (941, 'had'),\n",
       " (800, 'it'),\n",
       " (705, 'for'),\n",
       " (700, 'as'),\n",
       " (679, 'but'),\n",
       " (632, 'with'),\n",
       " (617, 'me'),\n",
       " (576, 'on')]"
      ]
     },
     "execution_count": 5,
     "metadata": {},
     "output_type": "execute_result"
    }
   ],
   "source": [
    "d_list = [(value, key) for (key, value) in d.items()]\n",
    "d_list = sorted(d_list, reverse=True)\n",
    "d_list[:20]"
   ]
  },
  {
   "cell_type": "code",
   "execution_count": 6,
   "id": "fd6d972a-c552-4a93-a2db-85c81df22fdd",
   "metadata": {},
   "outputs": [
    {
     "data": {
      "text/plain": [
       "'3.11.3'"
      ]
     },
     "execution_count": 6,
     "metadata": {},
     "output_type": "execute_result"
    }
   ],
   "source": [
    "from platform import python_version\n",
    "python_version()"
   ]
  },
  {
   "cell_type": "code",
   "execution_count": 7,
   "id": "b06cf20f-58ae-4fa5-9309-af9be5a74e6d",
   "metadata": {},
   "outputs": [],
   "source": [
    "import nltk\n",
    "\n",
    "from nltk.corpus import stopwords\n",
    "# nltk.download('stopwords')"
   ]
  },
  {
   "cell_type": "code",
   "execution_count": 8,
   "id": "5ff54f8e-0ba9-4853-9861-b0dc7865fa5b",
   "metadata": {},
   "outputs": [
    {
     "data": {
      "text/plain": [
       "['i', 'me', 'my', 'myself', 'we', 'our', 'ours', 'ourselves', 'you', \"you're\"]"
      ]
     },
     "execution_count": 8,
     "metadata": {},
     "output_type": "execute_result"
    }
   ],
   "source": [
    "english_stopwords = stopwords.words(\"english\")\n",
    "english_stopwords[:10]"
   ]
  },
  {
   "cell_type": "code",
   "execution_count": 9,
   "id": "c72ecdc2-792b-4842-8a5e-d4d3b406f329",
   "metadata": {},
   "outputs": [],
   "source": [
    "filtered_words = []\n",
    "for count, word in d_list:\n",
    "    if word not in english_stopwords:\n",
    "        filtered_words.append((count, word))"
   ]
  },
  {
   "cell_type": "code",
   "execution_count": 10,
   "id": "8b9f690b-c311-4a5c-9a45-f00a61b0fc65",
   "metadata": {},
   "outputs": [
    {
     "data": {
      "text/plain": [
       "[(575, 'would'),\n",
       " (519, 'us'),\n",
       " (292, 'said'),\n",
       " (284, 'roberto'),\n",
       " (252, 'could'),\n",
       " (249, 'one'),\n",
       " (227, 'snow'),\n",
       " (183, 'mountain'),\n",
       " (182, 'time'),\n",
       " (165, 'like')]"
      ]
     },
     "execution_count": 10,
     "metadata": {},
     "output_type": "execute_result"
    }
   ],
   "source": [
    "filtered_words[:10]"
   ]
  },
  {
   "cell_type": "markdown",
   "id": "a4b2c765-f9ab-4ea3-abe3-28d1f07b0129",
   "metadata": {},
   "source": [
    "## sentiment analysis: what is the most positive and most negative chapters"
   ]
  },
  {
   "cell_type": "code",
   "execution_count": 11,
   "id": "05986d2a-033c-4a8d-995d-3bbd7d75e030",
   "metadata": {},
   "outputs": [],
   "source": [
    "from nltk.sentiment import SentimentIntensityAnalyzer\n",
    "# nltk.download('vader_lexicon')"
   ]
  },
  {
   "cell_type": "code",
   "execution_count": 14,
   "id": "d5cd4eeb-2b48-4537-8538-f3bf2b14f305",
   "metadata": {},
   "outputs": [
    {
     "data": {
      "text/plain": [
       "['__class__',\n",
       " '__delattr__',\n",
       " '__dict__',\n",
       " '__dir__',\n",
       " '__doc__',\n",
       " '__eq__',\n",
       " '__format__',\n",
       " '__ge__',\n",
       " '__getattribute__',\n",
       " '__getstate__',\n",
       " '__gt__',\n",
       " '__hash__',\n",
       " '__init__',\n",
       " '__init_subclass__',\n",
       " '__le__',\n",
       " '__lt__',\n",
       " '__module__',\n",
       " '__ne__',\n",
       " '__new__',\n",
       " '__reduce__',\n",
       " '__reduce_ex__',\n",
       " '__repr__',\n",
       " '__setattr__',\n",
       " '__sizeof__',\n",
       " '__str__',\n",
       " '__subclasshook__',\n",
       " '__weakref__',\n",
       " '_amplify_ep',\n",
       " '_amplify_qm',\n",
       " '_but_check',\n",
       " '_idioms_check',\n",
       " '_least_check',\n",
       " '_never_check',\n",
       " '_punctuation_emphasis',\n",
       " '_sift_sentiment_scores',\n",
       " 'constants',\n",
       " 'lexicon',\n",
       " 'lexicon_file',\n",
       " 'make_lex_dict',\n",
       " 'polarity_scores',\n",
       " 'score_valence',\n",
       " 'sentiment_valence']"
      ]
     },
     "execution_count": 14,
     "metadata": {},
     "output_type": "execute_result"
    }
   ],
   "source": [
    "analyzer = SentimentIntensityAnalyzer()\n",
    "dir(analyzer)"
   ]
  },
  {
   "cell_type": "code",
   "execution_count": 15,
   "id": "db56fb43-9483-4f76-a1d3-269257219b92",
   "metadata": {},
   "outputs": [
    {
     "data": {
      "text/plain": [
       "{'neg': 0.0, 'neu': 0.464, 'pos': 0.536, 'compound': 0.8442}"
      ]
     },
     "execution_count": 15,
     "metadata": {},
     "output_type": "execute_result"
    }
   ],
   "source": [
    "analyzer.polarity_scores(\"He, look how beautiful the trees are. I love them.\")"
   ]
  },
  {
   "cell_type": "code",
   "execution_count": 24,
   "id": "f200ad11-b5da-48c9-9a7b-1c30efc09eb9",
   "metadata": {},
   "outputs": [],
   "source": [
    "scores = analyzer.polarity_scores(\"He, look how beautiful the trees are. I hate them.\")"
   ]
  },
  {
   "cell_type": "code",
   "execution_count": 25,
   "id": "5d61b5c5-6853-43bb-8cfe-59e8eea24e8c",
   "metadata": {},
   "outputs": [
    {
     "data": {
      "text/plain": [
       "{'neg': 0.543, 'neu': 0.457, 'pos': 0.0, 'compound': -0.8934}"
      ]
     },
     "execution_count": 25,
     "metadata": {},
     "output_type": "execute_result"
    }
   ],
   "source": [
    "analyzer.polarity_scores(\"He, look how bad the trees are. I hate them. They are horrible.\")"
   ]
  },
  {
   "cell_type": "code",
   "execution_count": 27,
   "id": "16bb7f6e-4ff5-4bc6-bb0b-d51429b76fb9",
   "metadata": {},
   "outputs": [
    {
     "name": "stdout",
     "output_type": "stream",
     "text": [
      "this is a happy sentence\n",
      "{'neg': 0.253, 'neu': 0.479, 'pos': 0.267, 'compound': 0.0516}\n"
     ]
    }
   ],
   "source": [
    "if scores[\"pos\"] > scores[\"neg\"]:\n",
    "    print(\"this is a happy sentence\")\n",
    "else:\n",
    "    print(\"that is one hateful bitch\")\n",
    "print(scores)"
   ]
  },
  {
   "cell_type": "code",
   "execution_count": 28,
   "id": "11f104c3-09b5-42ac-8dd7-26c0873fe885",
   "metadata": {},
   "outputs": [
    {
     "data": {
      "text/plain": [
       "{'neg': 0.116, 'neu': 0.76, 'pos': 0.125, 'compound': 1.0}"
      ]
     },
     "execution_count": 28,
     "metadata": {},
     "output_type": "execute_result"
    }
   ],
   "source": [
    "analyzer.polarity_scores(book)"
   ]
  },
  {
   "cell_type": "markdown",
   "id": "fbffaf12-7d92-41dc-bc03-4b18f26c861f",
   "metadata": {},
   "source": [
    "## chapter sentiment analysis"
   ]
  },
  {
   "cell_type": "code",
   "execution_count": 34,
   "id": "3fc2e027-0a2b-40fb-925f-6f48e9c3d09a",
   "metadata": {},
   "outputs": [],
   "source": [
    "import re\n",
    "pattern = re.compile(\"Chapter [0-9]+\")\n",
    "chapters = re.split(pattern, book)\n",
    "chapters = chapters[1:]"
   ]
  },
  {
   "cell_type": "code",
   "execution_count": 36,
   "id": "2bc5d2ce-2738-4641-b6ae-394965edacba",
   "metadata": {},
   "outputs": [
    {
     "name": "stdout",
     "output_type": "stream",
     "text": [
      "1 {'neg': 0.061, 'neu': 0.779, 'pos': 0.16, 'compound': 1.0}\n",
      "2 {'neg': 0.12, 'neu': 0.726, 'pos': 0.154, 'compound': 0.9991}\n",
      "3 {'neg': 0.145, 'neu': 0.751, 'pos': 0.105, 'compound': -0.9999}\n",
      "4 {'neg': 0.141, 'neu': 0.721, 'pos': 0.138, 'compound': -0.9963}\n",
      "5 {'neg': 0.118, 'neu': 0.742, 'pos': 0.141, 'compound': 0.9997}\n",
      "6 {'neg': 0.124, 'neu': 0.761, 'pos': 0.115, 'compound': -0.9979}\n",
      "7 {'neg': 0.136, 'neu': 0.761, 'pos': 0.103, 'compound': -0.9999}\n",
      "8 {'neg': 0.12, 'neu': 0.786, 'pos': 0.094, 'compound': -0.9998}\n",
      "9 {'neg': 0.097, 'neu': 0.824, 'pos': 0.079, 'compound': -0.9996}\n",
      "10 {'neg': 0.086, 'neu': 0.733, 'pos': 0.181, 'compound': 1.0}\n"
     ]
    }
   ],
   "source": [
    "for nr, chapter in enumerate(chapters):\n",
    "    scores = analyzer.polarity_scores(chapter)\n",
    "    print(nr+1, scores)"
   ]
  },
  {
   "cell_type": "code",
   "execution_count": null,
   "id": "25c97cbd-f580-40fa-ade1-19afb9dcfed8",
   "metadata": {},
   "outputs": [],
   "source": []
  }
 ],
 "metadata": {
  "kernelspec": {
   "display_name": "Python 3 (ipykernel)",
   "language": "python",
   "name": "python3"
  },
  "language_info": {
   "codemirror_mode": {
    "name": "ipython",
    "version": 3
   },
   "file_extension": ".py",
   "mimetype": "text/x-python",
   "name": "python",
   "nbconvert_exporter": "python",
   "pygments_lexer": "ipython3",
   "version": "3.11.3"
  }
 },
 "nbformat": 4,
 "nbformat_minor": 5
}
